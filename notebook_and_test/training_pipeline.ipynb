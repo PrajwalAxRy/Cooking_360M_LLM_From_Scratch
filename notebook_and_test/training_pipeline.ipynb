{
 "cells": [
  {
   "cell_type": "code",
   "execution_count": 2,
   "id": "5b886d03",
   "metadata": {},
   "outputs": [],
   "source": [
    "import os\n",
    "import yaml\n",
    "from tqdm import tqdm\n",
    "\n",
    "import torch\n",
    "import torch.nn as nn\n",
    "import torch.nn.functional as F"
   ]
  },
  {
   "cell_type": "code",
   "execution_count": 3,
   "id": "b8f6c2dc",
   "metadata": {},
   "outputs": [],
   "source": [
    "import sys\n",
    "sys.path.append('..')\n",
    "\n",
    "from llm_foundry.model.AxeGPT import AxeGPT"
   ]
  },
  {
   "cell_type": "code",
   "execution_count": 4,
   "id": "a55a4e34",
   "metadata": {},
   "outputs": [
    {
     "name": "stdout",
     "output_type": "stream",
     "text": [
      "dict_keys(['data', 'model', 'training'])\n",
      "dict_keys(['vocab_size', 'context_length', 'emb_dim', 'n_heads', 'n_layers', 'hidden_dim', 'head_dim', 'qk_norm', 'n_kv_groups', 'rope_local_base', 'rope_base', 'layer_types', 'dtype', 'query_pre_attn_scalar'])\n"
     ]
    }
   ],
   "source": [
    "from llm_foundry.utils.config import load_config\n",
    "\n",
    "config = load_config(path=\"../configs/llm_270m.yaml\")\n",
    "\n",
    "print(config.keys())\n",
    "print(config[\"model\"].keys())"
   ]
  },
  {
   "cell_type": "code",
   "execution_count": 6,
   "id": "0428ce37",
   "metadata": {},
   "outputs": [
    {
     "name": "stdout",
     "output_type": "stream",
     "text": [
      "Using device: cpu\n"
     ]
    }
   ],
   "source": [
    "device = \"cuda\" if torch.cuda.is_available() else \"cpu\"\n",
    "print(f\"Using device: {device}\")"
   ]
  },
  {
   "cell_type": "code",
   "execution_count": 8,
   "id": "1900bfc0",
   "metadata": {},
   "outputs": [
    {
     "name": "stdout",
     "output_type": "stream",
     "text": [
      "Tokenizer loaded:  gpt2\n"
     ]
    }
   ],
   "source": [
    "import tiktoken\n",
    "\n",
    "tokenizer = tiktoken.get_encoding(config[\"data\"][\"tokenizer\"])\n",
    "print(\"Tokenizer loaded: \", config[\"data\"][\"tokenizer\"])"
   ]
  },
  {
   "cell_type": "code",
   "execution_count": null,
   "id": "6b56904f",
   "metadata": {},
   "outputs": [],
   "source": []
  }
 ],
 "metadata": {
  "kernelspec": {
   "display_name": "llm_venv",
   "language": "python",
   "name": "python3"
  },
  "language_info": {
   "codemirror_mode": {
    "name": "ipython",
    "version": 3
   },
   "file_extension": ".py",
   "mimetype": "text/x-python",
   "name": "python",
   "nbconvert_exporter": "python",
   "pygments_lexer": "ipython3",
   "version": "3.12.3"
  }
 },
 "nbformat": 4,
 "nbformat_minor": 5
}

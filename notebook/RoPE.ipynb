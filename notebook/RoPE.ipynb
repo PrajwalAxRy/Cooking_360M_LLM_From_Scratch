{
 "cells": [
  {
   "cell_type": "code",
   "execution_count": 1,
   "id": "c399bd20",
   "metadata": {},
   "outputs": [],
   "source": [
    "import torch\n",
    "import matplotlib.pyplot as plt"
   ]
  },
  {
   "cell_type": "code",
   "execution_count": 4,
   "id": "d717be19",
   "metadata": {},
   "outputs": [],
   "source": [
    "head_dim = 6\n",
    "theta_base = 10000\n",
    "context_length = 6\n",
    "dtype=torch.float32"
   ]
  },
  {
   "cell_type": "code",
   "execution_count": null,
   "id": "c91e24f4",
   "metadata": {},
   "outputs": [
    {
     "name": "stdout",
     "output_type": "stream",
     "text": [
      "tensor([0., 2., 4.])\n",
      "inv_freq shape: torch.Size([3])\n",
      "tensor([1.0000, 0.0464, 0.0022])\n"
     ]
    }
   ],
   "source": [
    "inv_freq = 1.0 / (theta_base ** (2.0 * torch.arange(0, head_dim, 2, dtype=dtype)/head_dim))\n",
    "\n",
    "# Print torch.arange(0, head_dim, 2, dtype=dtype)\n",
    "print(torch.arange(0, head_dim, 2, dtype=dtype))\n",
    "\n",
    "print(\"inv_freq shape:\", inv_freq.shape)\n",
    "print(inv_freq)"
   ]
  },
  {
   "cell_type": "code",
   "execution_count": 6,
   "id": "9a2a5d9a",
   "metadata": {},
   "outputs": [
    {
     "name": "stdout",
     "output_type": "stream",
     "text": [
      "positions shape: torch.Size([6])\n",
      "tensor([0., 1., 2., 3., 4., 5.])\n"
     ]
    }
   ],
   "source": [
    "positions = torch.arange(context_length, dtype=dtype)  \n",
    "\n",
    "print(\"positions shape:\", positions.shape)\n",
    "print(positions)"
   ]
  },
  {
   "cell_type": "code",
   "execution_count": null,
   "id": "ec83d5be",
   "metadata": {},
   "outputs": [],
   "source": []
  }
 ],
 "metadata": {
  "kernelspec": {
   "display_name": "llm_venv",
   "language": "python",
   "name": "python3"
  },
  "language_info": {
   "codemirror_mode": {
    "name": "ipython",
    "version": 3
   },
   "file_extension": ".py",
   "mimetype": "text/x-python",
   "name": "python",
   "nbconvert_exporter": "python",
   "pygments_lexer": "ipython3",
   "version": "3.12.3"
  }
 },
 "nbformat": 4,
 "nbformat_minor": 5
}
